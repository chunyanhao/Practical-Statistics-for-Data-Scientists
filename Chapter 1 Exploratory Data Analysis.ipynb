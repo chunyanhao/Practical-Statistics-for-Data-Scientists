{
 "cells": [
  {
   "cell_type": "code",
   "execution_count": 1,
   "id": "c08e1a13",
   "metadata": {},
   "outputs": [],
   "source": [
    "import numpy as np\n",
    "import pandas as pd"
   ]
  },
  {
   "cell_type": "code",
   "execution_count": 4,
   "id": "1a75fb0b",
   "metadata": {},
   "outputs": [
    {
     "data": {
      "text/plain": [
       "6162876.3"
      ]
     },
     "execution_count": 4,
     "metadata": {},
     "output_type": "execute_result"
    }
   ],
   "source": [
    "state = pd.read_csv('/Users/ChunyanHao/desktop/ds面试/python_practical/data/state.csv')\n",
    "state['Population'].mean()"
   ]
  },
  {
   "cell_type": "code",
   "execution_count": 9,
   "id": "182a9dbb",
   "metadata": {},
   "outputs": [
    {
     "data": {
      "text/plain": [
       "4783697.125"
      ]
     },
     "execution_count": 9,
     "metadata": {},
     "output_type": "execute_result"
    }
   ],
   "source": [
    "from scipy import stats\n",
    "#trim=0.1 drops 10% from each end\n",
    "stats.trim_mean(state['Population'], 0.1)"
   ]
  },
  {
   "cell_type": "markdown",
   "id": "08d5ff27",
   "metadata": {},
   "source": [
    "1. Estimates of Variability "
   ]
  },
  {
   "cell_type": "code",
   "execution_count": 10,
   "id": "174416e3",
   "metadata": {},
   "outputs": [
    {
     "data": {
      "text/plain": [
       "4436369.5"
      ]
     },
     "execution_count": 10,
     "metadata": {},
     "output_type": "execute_result"
    }
   ],
   "source": [
    "state['Population'].median()"
   ]
  },
  {
   "cell_type": "markdown",
   "id": "bf7ab50b",
   "metadata": {},
   "source": [
    "$\\hat{Y} = \\hat{\\beta}_{0} + \\sum \\limits _{j=1} ^{p} X_{j}\\hat{\\beta}_{j} $"
   ]
  },
  {
   "cell_type": "markdown",
   "id": "da4c5e16",
   "metadata": {},
   "source": [
    "$ deviation = \\frac{ \\sum \\limits _{i=1} ^{n}|x_{i} - \\bar{x}|}{n}$"
   ]
  },
  {
   "cell_type": "markdown",
   "id": "e6c88bc9",
   "metadata": {},
   "source": [
    "$ Variance = \\frac{ \\sum \\limits _{i=1} ^{n}(x_{i} - \\bar{x})^2}{n-1}$"
   ]
  },
  {
   "cell_type": "markdown",
   "id": "c8478679",
   "metadata": {},
   "source": [
    "$ Standard deviation = \\sqrt{𝑉𝑎𝑟𝑖𝑎𝑛𝑐𝑒} $"
   ]
  },
  {
   "cell_type": "markdown",
   "id": "3265e997",
   "metadata": {},
   "source": [
    "If you use the intuitive denominator of n in the variance formula, you will underestimate the true value of the variance and the standard deviation in the population. This is referred to as a biased estimate. However, if you divide by n – 1 instead of n, the variance becomes an unbiased estimate."
   ]
  },
  {
   "cell_type": "markdown",
   "id": "54b64094",
   "metadata": {},
   "source": [
    "Neither the variance, the standard deviation, nor the mean absolute deviation is robust to outliers and extreme values (see “Median and Robust Estimates” on page 10 for a discussion of robust estimates for location). The variance and standard deviation are especially sensitive to outliers since they are based on the squared deviations."
   ]
  },
  {
   "cell_type": "markdown",
   "id": "8936df59",
   "metadata": {},
   "source": [
    "A robust estimate of variability is the median absolute deviation from the median or MAD:"
   ]
  },
  {
   "cell_type": "markdown",
   "id": "a7789568",
   "metadata": {},
   "source": [
    "$ MAD = median(|x_{1} - m|,|x_{2} - m|,..., |x_{n} - m|)$"
   ]
  },
  {
   "cell_type": "code",
   "execution_count": 14,
   "id": "be10d857",
   "metadata": {},
   "outputs": [
    {
     "data": {
      "text/plain": [
       "6848235.347401142"
      ]
     },
     "execution_count": 14,
     "metadata": {},
     "output_type": "execute_result"
    }
   ],
   "source": [
    "state['Population'].std()"
   ]
  },
  {
   "cell_type": "code",
   "execution_count": 16,
   "id": "9e3cc170",
   "metadata": {},
   "outputs": [
    {
     "data": {
      "text/plain": [
       "6680312.25"
      ]
     },
     "execution_count": 16,
     "metadata": {},
     "output_type": "execute_result"
    }
   ],
   "source": [
    "state['Population'].quantile(0.75)"
   ]
  },
  {
   "cell_type": "code",
   "execution_count": 17,
   "id": "c2bc5c88",
   "metadata": {},
   "outputs": [
    {
     "data": {
      "text/plain": [
       "1833004.25"
      ]
     },
     "execution_count": 17,
     "metadata": {},
     "output_type": "execute_result"
    }
   ],
   "source": [
    "state['Population'].quantile(0.25)"
   ]
  },
  {
   "cell_type": "markdown",
   "id": "1a182356",
   "metadata": {},
   "source": [
    "2. Exploring the Data Distribution"
   ]
  },
  {
   "cell_type": "code",
   "execution_count": null,
   "id": "d3a48dcb",
   "metadata": {},
   "outputs": [],
   "source": []
  }
 ],
 "metadata": {
  "kernelspec": {
   "display_name": "Python 3 (ipykernel)",
   "language": "python",
   "name": "python3"
  },
  "language_info": {
   "codemirror_mode": {
    "name": "ipython",
    "version": 3
   },
   "file_extension": ".py",
   "mimetype": "text/x-python",
   "name": "python",
   "nbconvert_exporter": "python",
   "pygments_lexer": "ipython3",
   "version": "3.7.7"
  }
 },
 "nbformat": 4,
 "nbformat_minor": 5
}
